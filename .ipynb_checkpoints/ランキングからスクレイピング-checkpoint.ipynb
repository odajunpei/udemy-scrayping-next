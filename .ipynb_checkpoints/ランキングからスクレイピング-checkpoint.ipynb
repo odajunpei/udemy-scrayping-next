{
 "cells": [
  {
   "cell_type": "code",
   "execution_count": 1,
   "id": "faec3c6b",
   "metadata": {},
   "outputs": [],
   "source": [
    "from selenium import webdriver"
   ]
  },
  {
   "cell_type": "code",
   "execution_count": 3,
   "id": "19f2fb74",
   "metadata": {},
   "outputs": [],
   "source": [
    "browser = webdriver.Chrome('chromedriver.exe')"
   ]
  },
  {
   "cell_type": "code",
   "execution_count": 5,
   "id": "0636b735",
   "metadata": {},
   "outputs": [],
   "source": [
    "browser.get('https://scraping-for-beginner.herokuapp.com/ranking/')"
   ]
  },
  {
   "cell_type": "code",
   "execution_count": 6,
   "id": "75f32d0c",
   "metadata": {},
   "outputs": [],
   "source": [
    "##１つの観光地の情報を取得\n",
    "###観光地名の取得"
   ]
  },
  {
   "cell_type": "code",
   "execution_count": 7,
   "id": "fbd4a480",
   "metadata": {},
   "outputs": [],
   "source": [
    "elem_rankingBox = browser.find_element_by_class_name('u_areaListRankingBox')"
   ]
  },
  {
   "cell_type": "code",
   "execution_count": 9,
   "id": "0e953e64",
   "metadata": {},
   "outputs": [
    {
     "data": {
      "text/plain": [
       "'1\\n観光地 1'"
      ]
     },
     "execution_count": 9,
     "metadata": {},
     "output_type": "execute_result"
    }
   ],
   "source": [
    "elem_title = elem_rankingBox.find_element_by_class_name('u_title')\n",
    "elem_title.text"
   ]
  },
  {
   "cell_type": "code",
   "execution_count": 10,
   "id": "bb0beb4d",
   "metadata": {},
   "outputs": [
    {
     "data": {
      "text/plain": [
       "'1\\n観光地 1'"
      ]
     },
     "execution_count": 10,
     "metadata": {},
     "output_type": "execute_result"
    }
   ],
   "source": [
    "title = elem_title.text\n",
    "title"
   ]
  },
  {
   "cell_type": "code",
   "execution_count": 12,
   "id": "0c270bb2",
   "metadata": {},
   "outputs": [
    {
     "data": {
      "text/plain": [
       "'観光地 1'"
      ]
     },
     "execution_count": 12,
     "metadata": {},
     "output_type": "execute_result"
    }
   ],
   "source": [
    "title.split('\\n')[1]"
   ]
  },
  {
   "cell_type": "code",
   "execution_count": 13,
   "id": "879d3149",
   "metadata": {},
   "outputs": [],
   "source": [
    "###総合評価の取得"
   ]
  },
  {
   "cell_type": "code",
   "execution_count": 14,
   "id": "1770395f",
   "metadata": {},
   "outputs": [],
   "source": [
    "elem = browser.find_element_by_class_name('u_rankBox')\n",
    "elem = elem.find_element_by_class_name('evaluateNumber')"
   ]
  },
  {
   "cell_type": "code",
   "execution_count": 15,
   "id": "5e24c475",
   "metadata": {},
   "outputs": [
    {
     "data": {
      "text/plain": [
       "'4.7'"
      ]
     },
     "execution_count": 15,
     "metadata": {},
     "output_type": "execute_result"
    }
   ],
   "source": [
    "elem.text"
   ]
  },
  {
   "cell_type": "code",
   "execution_count": null,
   "id": "8c089df2",
   "metadata": {},
   "outputs": [],
   "source": [
    "###各項目評価の取得"
   ]
  },
  {
   "cell_type": "code",
   "execution_count": null,
   "id": "a4c3cf5e",
   "metadata": {},
   "outputs": [],
   "source": [
    "####楽しさ"
   ]
  },
  {
   "cell_type": "code",
   "execution_count": 18,
   "id": "5ee88354",
   "metadata": {},
   "outputs": [],
   "source": [
    "elem = browser.find_element_by_class_name('u_categoryTipsItem')"
   ]
  },
  {
   "cell_type": "code",
   "execution_count": 19,
   "id": "8d6ee2ff",
   "metadata": {},
   "outputs": [],
   "source": [
    "elem = elem.find_elements_by_class_name('is_rank')[0]"
   ]
  },
  {
   "cell_type": "code",
   "execution_count": 20,
   "id": "35887d45",
   "metadata": {},
   "outputs": [],
   "source": [
    "elem = elem.find_element_by_class_name('evaluateNumber')"
   ]
  },
  {
   "cell_type": "code",
   "execution_count": 21,
   "id": "319c56ae",
   "metadata": {},
   "outputs": [
    {
     "data": {
      "text/plain": [
       "'4.6'"
      ]
     },
     "execution_count": 21,
     "metadata": {},
     "output_type": "execute_result"
    }
   ],
   "source": [
    "elem.text"
   ]
  },
  {
   "cell_type": "code",
   "execution_count": null,
   "id": "b8a6cec7",
   "metadata": {},
   "outputs": [],
   "source": [
    "####人ごみの多さ"
   ]
  },
  {
   "cell_type": "code",
   "execution_count": 22,
   "id": "f56cc905",
   "metadata": {},
   "outputs": [],
   "source": [
    "elem = browser.find_element_by_class_name('u_categoryTipsItem')\n",
    "elem = elem.find_elements_by_class_name('is_rank')[1]\n",
    "elem = elem.find_element_by_class_name('evaluateNumber')"
   ]
  },
  {
   "cell_type": "code",
   "execution_count": 23,
   "id": "e4a5ef72",
   "metadata": {},
   "outputs": [
    {
     "data": {
      "text/plain": [
       "'4.5'"
      ]
     },
     "execution_count": 23,
     "metadata": {},
     "output_type": "execute_result"
    }
   ],
   "source": [
    "elem.text"
   ]
  },
  {
   "cell_type": "code",
   "execution_count": null,
   "id": "dbef6c0c",
   "metadata": {},
   "outputs": [],
   "source": [
    "####景色"
   ]
  },
  {
   "cell_type": "code",
   "execution_count": 24,
   "id": "51c3d244",
   "metadata": {},
   "outputs": [],
   "source": [
    "elem = browser.find_element_by_class_name('u_categoryTipsItem')\n",
    "elem = elem.find_elements_by_class_name('is_rank')[2]\n",
    "elem = elem.find_element_by_class_name('evaluateNumber')"
   ]
  },
  {
   "cell_type": "code",
   "execution_count": 25,
   "id": "879cbc56",
   "metadata": {},
   "outputs": [
    {
     "data": {
      "text/plain": [
       "'4.9'"
      ]
     },
     "execution_count": 25,
     "metadata": {},
     "output_type": "execute_result"
    }
   ],
   "source": [
    "elem.text"
   ]
  },
  {
   "cell_type": "code",
   "execution_count": null,
   "id": "60a2a7d8",
   "metadata": {},
   "outputs": [],
   "source": [
    "####アクセス"
   ]
  },
  {
   "cell_type": "code",
   "execution_count": 26,
   "id": "2ba5f21a",
   "metadata": {},
   "outputs": [],
   "source": [
    "elem = browser.find_element_by_class_name('u_categoryTipsItem')\n",
    "elem = elem.find_elements_by_class_name('is_rank')[3]\n",
    "elem = elem.find_element_by_class_name('evaluateNumber')"
   ]
  },
  {
   "cell_type": "code",
   "execution_count": 27,
   "id": "d7982c8e",
   "metadata": {},
   "outputs": [
    {
     "data": {
      "text/plain": [
       "'4.2'"
      ]
     },
     "execution_count": 27,
     "metadata": {},
     "output_type": "execute_result"
    }
   ],
   "source": [
    "elem.text"
   ]
  },
  {
   "cell_type": "code",
   "execution_count": null,
   "id": "ecb69ba7",
   "metadata": {},
   "outputs": [],
   "source": [
    "##全ての観光地の情報を取得"
   ]
  },
  {
   "cell_type": "code",
   "execution_count": 28,
   "id": "aaa69a33",
   "metadata": {},
   "outputs": [
    {
     "data": {
      "text/plain": [
       "'1\\n観光地 1'"
      ]
     },
     "execution_count": 28,
     "metadata": {},
     "output_type": "execute_result"
    }
   ],
   "source": [
    "elem_rankingBox = browser.find_element_by_class_name('u_areaListRankingBox')\n",
    "elem_title = elem_rankingBox.find_element_by_class_name('u_title').find_element_by_tag_name('h2')\n",
    "elem_title.text"
   ]
  },
  {
   "cell_type": "code",
   "execution_count": 39,
   "id": "df18cef4",
   "metadata": {},
   "outputs": [],
   "source": [
    "elems_rankingBox = browser.find_elements_by_class_name('u_areaListRankingBox')"
   ]
  },
  {
   "cell_type": "code",
   "execution_count": 40,
   "id": "4ac4e711",
   "metadata": {},
   "outputs": [
    {
     "data": {
      "text/plain": [
       "10"
      ]
     },
     "execution_count": 40,
     "metadata": {},
     "output_type": "execute_result"
    }
   ],
   "source": [
    "len(elems_rankingBox)"
   ]
  },
  {
   "cell_type": "code",
   "execution_count": 42,
   "id": "68e947c6",
   "metadata": {},
   "outputs": [
    {
     "data": {
      "text/plain": [
       "<selenium.webdriver.remote.webelement.WebElement (session=\"ced888fe4e11fa7653b16904c6890287\", element=\"0.03590825158276445-1\")>"
      ]
     },
     "execution_count": 42,
     "metadata": {},
     "output_type": "execute_result"
    }
   ],
   "source": [
    "elems_rankingBox[0]"
   ]
  },
  {
   "cell_type": "code",
   "execution_count": 53,
   "id": "b175d1f0",
   "metadata": {},
   "outputs": [],
   "source": [
    "elems_rankingBox = browser.find_elements_by_class_name('u_areaListRankingBox')\n",
    "\n",
    "#全ての観光地名を格納するリストtitlesを用意\n",
    "titles = []\n",
    "\n",
    "for elem_rankingBox in elems_rankingBox:\n",
    "#     elem_rankingBox = elems_rankingBox[1]\n",
    "      elem_title = elem_rankingBox.find_element_by_class_name('u_title')\n",
    "      title = elem_title.text.split('\\n')[1]\n",
    "      titles.append(title)"
   ]
  },
  {
   "cell_type": "code",
   "execution_count": 54,
   "id": "bca368fd",
   "metadata": {},
   "outputs": [
    {
     "data": {
      "text/plain": [
       "['観光地 1',\n",
       " '観光地 2',\n",
       " '観光地 3',\n",
       " '観光地 4',\n",
       " '観光地 5',\n",
       " '観光地 6',\n",
       " '観光地 7',\n",
       " '観光地 8',\n",
       " '観光地 9',\n",
       " '観光地 10']"
      ]
     },
     "execution_count": 54,
     "metadata": {},
     "output_type": "execute_result"
    }
   ],
   "source": [
    "titles"
   ]
  },
  {
   "cell_type": "code",
   "execution_count": 56,
   "id": "d7db2691",
   "metadata": {},
   "outputs": [],
   "source": [
    "##総合評価"
   ]
  },
  {
   "cell_type": "code",
   "execution_count": 59,
   "id": "595198cc",
   "metadata": {},
   "outputs": [
    {
     "data": {
      "text/plain": [
       "10"
      ]
     },
     "execution_count": 59,
     "metadata": {},
     "output_type": "execute_result"
    }
   ],
   "source": [
    "elems_rank = browser.find_elements_by_class_name('u_rankBox')\n",
    "len(elems_rank)"
   ]
  },
  {
   "cell_type": "code",
   "execution_count": 62,
   "id": "3f7ed12b",
   "metadata": {},
   "outputs": [
    {
     "data": {
      "text/plain": [
       "'4.7'"
      ]
     },
     "execution_count": 62,
     "metadata": {},
     "output_type": "execute_result"
    }
   ],
   "source": [
    "elems_rank[0].find_element_by_class_name('evaluateNumber').text"
   ]
  },
  {
   "cell_type": "code",
   "execution_count": 67,
   "id": "e1a73249",
   "metadata": {},
   "outputs": [],
   "source": [
    "elems_rank = browser.find_elements_by_class_name('u_rankBox')\n",
    "\n",
    "ranks = []\n",
    "for elem_rank in elems_rank:\n",
    "# elem_rank = elems_rank[3]\n",
    "      elem_rank = elem_rank.find_element_by_class_name('evaluateNumber')\n",
    "      rank = float(elem_rank.text)\n",
    "      ranks.append(rank)"
   ]
  },
  {
   "cell_type": "code",
   "execution_count": 68,
   "id": "81302a99",
   "metadata": {},
   "outputs": [
    {
     "data": {
      "text/plain": [
       "[4.7, 4.7, 4.6, 4.5, 4.5, 4.4, 4.3, 4.3, 4.2, 4.1]"
      ]
     },
     "execution_count": 68,
     "metadata": {},
     "output_type": "execute_result"
    }
   ],
   "source": [
    "ranks"
   ]
  },
  {
   "cell_type": "code",
   "execution_count": null,
   "id": "8d002ba7",
   "metadata": {},
   "outputs": [],
   "source": [
    "##各項目"
   ]
  },
  {
   "cell_type": "code",
   "execution_count": 69,
   "id": "88f97fc3",
   "metadata": {},
   "outputs": [],
   "source": [
    "elems = browser.find_elements_by_class_name('u_categoryTipsItem')"
   ]
  },
  {
   "cell_type": "code",
   "execution_count": 70,
   "id": "e1bbb240",
   "metadata": {},
   "outputs": [
    {
     "data": {
      "text/plain": [
       "10"
      ]
     },
     "execution_count": 70,
     "metadata": {},
     "output_type": "execute_result"
    }
   ],
   "source": [
    "len(elems)"
   ]
  },
  {
   "cell_type": "code",
   "execution_count": 71,
   "id": "c4bae46b",
   "metadata": {},
   "outputs": [],
   "source": [
    "elem = elems[1]\n",
    "elems_rank = elem.find_elements_by_class_name('is_rank')"
   ]
  },
  {
   "cell_type": "code",
   "execution_count": 72,
   "id": "e5823091",
   "metadata": {},
   "outputs": [
    {
     "data": {
      "text/plain": [
       "4"
      ]
     },
     "execution_count": 72,
     "metadata": {},
     "output_type": "execute_result"
    }
   ],
   "source": [
    "len(elems_rank)"
   ]
  },
  {
   "cell_type": "code",
   "execution_count": 89,
   "id": "9511ebf7",
   "metadata": {},
   "outputs": [],
   "source": [
    "categories = []\n",
    "\n",
    "for elem in elems:\n",
    "# elem = elems[2]\n",
    "    elems_rank = elem.find_elements_by_class_name('is_rank')\n",
    "\n",
    "    _ranks = []\n",
    "    for elem_rank in elems_rank:\n",
    "        rank = elem_rank.find_element_by_class_name('evaluateNumber').text\n",
    "        _ranks.append(float(rank))\n",
    "    categories.append(_ranks)"
   ]
  },
  {
   "cell_type": "code",
   "execution_count": 90,
   "id": "89431241",
   "metadata": {},
   "outputs": [
    {
     "data": {
      "text/plain": [
       "[[4.6, 4.5, 4.9, 4.2],\n",
       " [4.6, 4.5, 4.9, 4.2],\n",
       " [4.5, 4.4, 4.8, 4.1],\n",
       " [4.4, 4.4, 4.8, 4.0],\n",
       " [4.4, 4.3, 4.7, 4.0],\n",
       " [4.3, 4.3, 4.7, 3.9],\n",
       " [4.2, 4.2, 4.6, 3.8],\n",
       " [4.2, 4.2, 4.6, 3.8],\n",
       " [4.1, 4.1, 4.5, 3.7],\n",
       " [4.0, 4.1, 4.4, 3.6]]"
      ]
     },
     "execution_count": 90,
     "metadata": {},
     "output_type": "execute_result"
    }
   ],
   "source": [
    "categories"
   ]
  },
  {
   "cell_type": "code",
   "execution_count": null,
   "id": "fe6cafc4",
   "metadata": {},
   "outputs": [],
   "source": [
    "###Pandasの形式に変換"
   ]
  },
  {
   "cell_type": "code",
   "execution_count": 91,
   "id": "1d698571",
   "metadata": {},
   "outputs": [],
   "source": [
    "import pandas as pd"
   ]
  },
  {
   "cell_type": "code",
   "execution_count": 92,
   "id": "4d1019b2",
   "metadata": {},
   "outputs": [],
   "source": [
    "df = pd.DataFrame()"
   ]
  },
  {
   "cell_type": "code",
   "execution_count": 95,
   "id": "1b913d40",
   "metadata": {},
   "outputs": [],
   "source": [
    "df['観光地名'] = titles\n",
    "df['総合評価'] = ranks"
   ]
  },
  {
   "cell_type": "code",
   "execution_count": 97,
   "id": "5b55011b",
   "metadata": {},
   "outputs": [
    {
     "data": {
      "text/html": [
       "<div>\n",
       "<style scoped>\n",
       "    .dataframe tbody tr th:only-of-type {\n",
       "        vertical-align: middle;\n",
       "    }\n",
       "\n",
       "    .dataframe tbody tr th {\n",
       "        vertical-align: top;\n",
       "    }\n",
       "\n",
       "    .dataframe thead th {\n",
       "        text-align: right;\n",
       "    }\n",
       "</style>\n",
       "<table border=\"1\" class=\"dataframe\">\n",
       "  <thead>\n",
       "    <tr style=\"text-align: right;\">\n",
       "      <th></th>\n",
       "      <th>楽しさ</th>\n",
       "      <th>人ごみの多さ</th>\n",
       "      <th>景色</th>\n",
       "      <th>アクセス</th>\n",
       "    </tr>\n",
       "  </thead>\n",
       "  <tbody>\n",
       "    <tr>\n",
       "      <th>0</th>\n",
       "      <td>4.6</td>\n",
       "      <td>4.5</td>\n",
       "      <td>4.9</td>\n",
       "      <td>4.2</td>\n",
       "    </tr>\n",
       "    <tr>\n",
       "      <th>1</th>\n",
       "      <td>4.6</td>\n",
       "      <td>4.5</td>\n",
       "      <td>4.9</td>\n",
       "      <td>4.2</td>\n",
       "    </tr>\n",
       "    <tr>\n",
       "      <th>2</th>\n",
       "      <td>4.5</td>\n",
       "      <td>4.4</td>\n",
       "      <td>4.8</td>\n",
       "      <td>4.1</td>\n",
       "    </tr>\n",
       "    <tr>\n",
       "      <th>3</th>\n",
       "      <td>4.4</td>\n",
       "      <td>4.4</td>\n",
       "      <td>4.8</td>\n",
       "      <td>4.0</td>\n",
       "    </tr>\n",
       "    <tr>\n",
       "      <th>4</th>\n",
       "      <td>4.4</td>\n",
       "      <td>4.3</td>\n",
       "      <td>4.7</td>\n",
       "      <td>4.0</td>\n",
       "    </tr>\n",
       "    <tr>\n",
       "      <th>5</th>\n",
       "      <td>4.3</td>\n",
       "      <td>4.3</td>\n",
       "      <td>4.7</td>\n",
       "      <td>3.9</td>\n",
       "    </tr>\n",
       "    <tr>\n",
       "      <th>6</th>\n",
       "      <td>4.2</td>\n",
       "      <td>4.2</td>\n",
       "      <td>4.6</td>\n",
       "      <td>3.8</td>\n",
       "    </tr>\n",
       "    <tr>\n",
       "      <th>7</th>\n",
       "      <td>4.2</td>\n",
       "      <td>4.2</td>\n",
       "      <td>4.6</td>\n",
       "      <td>3.8</td>\n",
       "    </tr>\n",
       "    <tr>\n",
       "      <th>8</th>\n",
       "      <td>4.1</td>\n",
       "      <td>4.1</td>\n",
       "      <td>4.5</td>\n",
       "      <td>3.7</td>\n",
       "    </tr>\n",
       "    <tr>\n",
       "      <th>9</th>\n",
       "      <td>4.0</td>\n",
       "      <td>4.1</td>\n",
       "      <td>4.4</td>\n",
       "      <td>3.6</td>\n",
       "    </tr>\n",
       "  </tbody>\n",
       "</table>\n",
       "</div>"
      ],
      "text/plain": [
       "   楽しさ  人ごみの多さ   景色  アクセス\n",
       "0  4.6     4.5  4.9   4.2\n",
       "1  4.6     4.5  4.9   4.2\n",
       "2  4.5     4.4  4.8   4.1\n",
       "3  4.4     4.4  4.8   4.0\n",
       "4  4.4     4.3  4.7   4.0\n",
       "5  4.3     4.3  4.7   3.9\n",
       "6  4.2     4.2  4.6   3.8\n",
       "7  4.2     4.2  4.6   3.8\n",
       "8  4.1     4.1  4.5   3.7\n",
       "9  4.0     4.1  4.4   3.6"
      ]
     },
     "execution_count": 97,
     "metadata": {},
     "output_type": "execute_result"
    }
   ],
   "source": [
    "df_categories = pd.DataFrame(categories)\n",
    "df_categories.columns = ['楽しさ','人ごみの多さ','景色','アクセス']\n",
    "df_categories"
   ]
  },
  {
   "cell_type": "code",
   "execution_count": 98,
   "id": "23c6582a",
   "metadata": {},
   "outputs": [
    {
     "data": {
      "text/html": [
       "<div>\n",
       "<style scoped>\n",
       "    .dataframe tbody tr th:only-of-type {\n",
       "        vertical-align: middle;\n",
       "    }\n",
       "\n",
       "    .dataframe tbody tr th {\n",
       "        vertical-align: top;\n",
       "    }\n",
       "\n",
       "    .dataframe thead th {\n",
       "        text-align: right;\n",
       "    }\n",
       "</style>\n",
       "<table border=\"1\" class=\"dataframe\">\n",
       "  <thead>\n",
       "    <tr style=\"text-align: right;\">\n",
       "      <th></th>\n",
       "      <th>観光地名</th>\n",
       "      <th>総合評価</th>\n",
       "      <th>楽しさ</th>\n",
       "      <th>人ごみの多さ</th>\n",
       "      <th>景色</th>\n",
       "      <th>アクセス</th>\n",
       "    </tr>\n",
       "  </thead>\n",
       "  <tbody>\n",
       "    <tr>\n",
       "      <th>0</th>\n",
       "      <td>観光地 10</td>\n",
       "      <td>4.7</td>\n",
       "      <td>4.6</td>\n",
       "      <td>4.5</td>\n",
       "      <td>4.9</td>\n",
       "      <td>4.2</td>\n",
       "    </tr>\n",
       "    <tr>\n",
       "      <th>1</th>\n",
       "      <td>観光地 10</td>\n",
       "      <td>4.7</td>\n",
       "      <td>4.6</td>\n",
       "      <td>4.5</td>\n",
       "      <td>4.9</td>\n",
       "      <td>4.2</td>\n",
       "    </tr>\n",
       "    <tr>\n",
       "      <th>2</th>\n",
       "      <td>観光地 10</td>\n",
       "      <td>4.6</td>\n",
       "      <td>4.5</td>\n",
       "      <td>4.4</td>\n",
       "      <td>4.8</td>\n",
       "      <td>4.1</td>\n",
       "    </tr>\n",
       "    <tr>\n",
       "      <th>3</th>\n",
       "      <td>観光地 10</td>\n",
       "      <td>4.5</td>\n",
       "      <td>4.4</td>\n",
       "      <td>4.4</td>\n",
       "      <td>4.8</td>\n",
       "      <td>4.0</td>\n",
       "    </tr>\n",
       "    <tr>\n",
       "      <th>4</th>\n",
       "      <td>観光地 10</td>\n",
       "      <td>4.5</td>\n",
       "      <td>4.4</td>\n",
       "      <td>4.3</td>\n",
       "      <td>4.7</td>\n",
       "      <td>4.0</td>\n",
       "    </tr>\n",
       "    <tr>\n",
       "      <th>5</th>\n",
       "      <td>観光地 10</td>\n",
       "      <td>4.4</td>\n",
       "      <td>4.3</td>\n",
       "      <td>4.3</td>\n",
       "      <td>4.7</td>\n",
       "      <td>3.9</td>\n",
       "    </tr>\n",
       "    <tr>\n",
       "      <th>6</th>\n",
       "      <td>観光地 10</td>\n",
       "      <td>4.3</td>\n",
       "      <td>4.2</td>\n",
       "      <td>4.2</td>\n",
       "      <td>4.6</td>\n",
       "      <td>3.8</td>\n",
       "    </tr>\n",
       "    <tr>\n",
       "      <th>7</th>\n",
       "      <td>観光地 10</td>\n",
       "      <td>4.3</td>\n",
       "      <td>4.2</td>\n",
       "      <td>4.2</td>\n",
       "      <td>4.6</td>\n",
       "      <td>3.8</td>\n",
       "    </tr>\n",
       "    <tr>\n",
       "      <th>8</th>\n",
       "      <td>観光地 10</td>\n",
       "      <td>4.2</td>\n",
       "      <td>4.1</td>\n",
       "      <td>4.1</td>\n",
       "      <td>4.5</td>\n",
       "      <td>3.7</td>\n",
       "    </tr>\n",
       "    <tr>\n",
       "      <th>9</th>\n",
       "      <td>観光地 10</td>\n",
       "      <td>4.1</td>\n",
       "      <td>4.0</td>\n",
       "      <td>4.1</td>\n",
       "      <td>4.4</td>\n",
       "      <td>3.6</td>\n",
       "    </tr>\n",
       "  </tbody>\n",
       "</table>\n",
       "</div>"
      ],
      "text/plain": [
       "     観光地名  総合評価  楽しさ  人ごみの多さ   景色  アクセス\n",
       "0  観光地 10   4.7  4.6     4.5  4.9   4.2\n",
       "1  観光地 10   4.7  4.6     4.5  4.9   4.2\n",
       "2  観光地 10   4.6  4.5     4.4  4.8   4.1\n",
       "3  観光地 10   4.5  4.4     4.4  4.8   4.0\n",
       "4  観光地 10   4.5  4.4     4.3  4.7   4.0\n",
       "5  観光地 10   4.4  4.3     4.3  4.7   3.9\n",
       "6  観光地 10   4.3  4.2     4.2  4.6   3.8\n",
       "7  観光地 10   4.3  4.2     4.2  4.6   3.8\n",
       "8  観光地 10   4.2  4.1     4.1  4.5   3.7\n",
       "9  観光地 10   4.1  4.0     4.1  4.4   3.6"
      ]
     },
     "execution_count": 98,
     "metadata": {},
     "output_type": "execute_result"
    }
   ],
   "source": [
    "df = pd.concat([df, df_categories], axis=1)"
   ]
  },
  {
   "cell_type": "code",
   "execution_count": 102,
   "id": "d909ce64",
   "metadata": {},
   "outputs": [],
   "source": [
    "df.to_csv('観光地情報.csv', index=False)"
   ]
  }
 ],
 "metadata": {
  "kernelspec": {
   "display_name": "Python 3 (ipykernel)",
   "language": "python",
   "name": "python3"
  },
  "language_info": {
   "codemirror_mode": {
    "name": "ipython",
    "version": 3
   },
   "file_extension": ".py",
   "mimetype": "text/x-python",
   "name": "python",
   "nbconvert_exporter": "python",
   "pygments_lexer": "ipython3",
   "version": "3.8.3rc1"
  }
 },
 "nbformat": 4,
 "nbformat_minor": 5
}
